{
 "cells": [
  {
   "cell_type": "markdown",
   "metadata": {},
   "source": [
    "# Hypothesis Testing of Movie Ratings Data\n",
    "________________________________________________________________________________________________________________\n",
    "\n",
    "# Author: \n",
    "\n",
    "### Jennifer Rodriguez-Trujillo\n",
    "-----------------------------\n",
    "### New York University, Center for Data Science\n",
    "________________________________________________________________________________________________________________\n",
    "\n"
   ]
  },
  {
   "cell_type": "markdown",
   "metadata": {},
   "source": [
    "## Import Libraries"
   ]
  },
  {
   "cell_type": "code",
   "execution_count": 1,
   "metadata": {},
   "outputs": [],
   "source": [
    "import pandas as pd  \n",
    "import numpy as np\n",
    "from scipy.stats import mannwhitneyu\n",
    "from scipy import stats"
   ]
  },
  {
   "cell_type": "markdown",
   "metadata": {},
   "source": [
    "#### Load Data"
   ]
  },
  {
   "cell_type": "code",
   "execution_count": 2,
   "metadata": {},
   "outputs": [],
   "source": [
    "data1 = pd.DataFrame(pd.read_csv('/Users/jenniferrodrigueztrujillo/Downloads/movieReplicationSet.csv'))"
   ]
  },
  {
   "cell_type": "code",
   "execution_count": 3,
   "metadata": {},
   "outputs": [
    {
     "data": {
      "text/html": [
       "<div>\n",
       "<style scoped>\n",
       "    .dataframe tbody tr th:only-of-type {\n",
       "        vertical-align: middle;\n",
       "    }\n",
       "\n",
       "    .dataframe tbody tr th {\n",
       "        vertical-align: top;\n",
       "    }\n",
       "\n",
       "    .dataframe thead th {\n",
       "        text-align: right;\n",
       "    }\n",
       "</style>\n",
       "<table border=\"1\" class=\"dataframe\">\n",
       "  <thead>\n",
       "    <tr style=\"text-align: right;\">\n",
       "      <th></th>\n",
       "      <th>The Life of David Gale (2003)</th>\n",
       "      <th>Wing Commander (1999)</th>\n",
       "      <th>Django Unchained (2012)</th>\n",
       "      <th>Alien (1979)</th>\n",
       "      <th>Indiana Jones and the Last Crusade (1989)</th>\n",
       "      <th>Snatch (2000)</th>\n",
       "      <th>Rambo: First Blood Part II (1985)</th>\n",
       "      <th>Fargo (1996)</th>\n",
       "      <th>Let the Right One In (2008)</th>\n",
       "      <th>Black Swan (2010)</th>\n",
       "      <th>...</th>\n",
       "      <th>When watching a movie I cheer or shout or talk or curse at the screen</th>\n",
       "      <th>When watching a movie I feel like the things on the screen are happening to me</th>\n",
       "      <th>As a movie unfolds I start to have problems keeping track of events that happened earlier</th>\n",
       "      <th>The emotions on the screen \"rub off\" on me - for instance if something sad is happening I get sad or if something frightening is happening I get scared</th>\n",
       "      <th>When watching a movie I get completely immersed in the alternative reality of the film</th>\n",
       "      <th>Movies change my position on social economic or political issues</th>\n",
       "      <th>When watching movies things get so intense that I have to stop watching</th>\n",
       "      <th>Gender identity (1 = female; 2 = male; 3 = self-described)</th>\n",
       "      <th>Are you an only child? (1: Yes; 0: No; -1: Did not respond)</th>\n",
       "      <th>Movies are best enjoyed alone (1: Yes; 0: No; -1: Did not respond)</th>\n",
       "    </tr>\n",
       "  </thead>\n",
       "  <tbody>\n",
       "    <tr>\n",
       "      <th>0</th>\n",
       "      <td>NaN</td>\n",
       "      <td>NaN</td>\n",
       "      <td>4.0</td>\n",
       "      <td>NaN</td>\n",
       "      <td>3.0</td>\n",
       "      <td>NaN</td>\n",
       "      <td>NaN</td>\n",
       "      <td>NaN</td>\n",
       "      <td>NaN</td>\n",
       "      <td>NaN</td>\n",
       "      <td>...</td>\n",
       "      <td>1.0</td>\n",
       "      <td>6.0</td>\n",
       "      <td>2.0</td>\n",
       "      <td>5.0</td>\n",
       "      <td>5.0</td>\n",
       "      <td>5.0</td>\n",
       "      <td>1.0</td>\n",
       "      <td>1.0</td>\n",
       "      <td>0</td>\n",
       "      <td>1</td>\n",
       "    </tr>\n",
       "    <tr>\n",
       "      <th>1</th>\n",
       "      <td>NaN</td>\n",
       "      <td>NaN</td>\n",
       "      <td>1.5</td>\n",
       "      <td>NaN</td>\n",
       "      <td>NaN</td>\n",
       "      <td>NaN</td>\n",
       "      <td>NaN</td>\n",
       "      <td>NaN</td>\n",
       "      <td>NaN</td>\n",
       "      <td>NaN</td>\n",
       "      <td>...</td>\n",
       "      <td>3.0</td>\n",
       "      <td>1.0</td>\n",
       "      <td>1.0</td>\n",
       "      <td>6.0</td>\n",
       "      <td>5.0</td>\n",
       "      <td>3.0</td>\n",
       "      <td>2.0</td>\n",
       "      <td>1.0</td>\n",
       "      <td>0</td>\n",
       "      <td>0</td>\n",
       "    </tr>\n",
       "    <tr>\n",
       "      <th>2</th>\n",
       "      <td>NaN</td>\n",
       "      <td>NaN</td>\n",
       "      <td>NaN</td>\n",
       "      <td>NaN</td>\n",
       "      <td>NaN</td>\n",
       "      <td>NaN</td>\n",
       "      <td>NaN</td>\n",
       "      <td>NaN</td>\n",
       "      <td>NaN</td>\n",
       "      <td>NaN</td>\n",
       "      <td>...</td>\n",
       "      <td>5.0</td>\n",
       "      <td>4.0</td>\n",
       "      <td>3.0</td>\n",
       "      <td>5.0</td>\n",
       "      <td>5.0</td>\n",
       "      <td>4.0</td>\n",
       "      <td>4.0</td>\n",
       "      <td>1.0</td>\n",
       "      <td>1</td>\n",
       "      <td>0</td>\n",
       "    </tr>\n",
       "    <tr>\n",
       "      <th>3</th>\n",
       "      <td>NaN</td>\n",
       "      <td>NaN</td>\n",
       "      <td>2.0</td>\n",
       "      <td>NaN</td>\n",
       "      <td>3.0</td>\n",
       "      <td>NaN</td>\n",
       "      <td>NaN</td>\n",
       "      <td>NaN</td>\n",
       "      <td>NaN</td>\n",
       "      <td>4.0</td>\n",
       "      <td>...</td>\n",
       "      <td>3.0</td>\n",
       "      <td>1.0</td>\n",
       "      <td>1.0</td>\n",
       "      <td>4.0</td>\n",
       "      <td>5.0</td>\n",
       "      <td>3.0</td>\n",
       "      <td>1.0</td>\n",
       "      <td>1.0</td>\n",
       "      <td>0</td>\n",
       "      <td>1</td>\n",
       "    </tr>\n",
       "    <tr>\n",
       "      <th>4</th>\n",
       "      <td>NaN</td>\n",
       "      <td>NaN</td>\n",
       "      <td>3.5</td>\n",
       "      <td>NaN</td>\n",
       "      <td>0.5</td>\n",
       "      <td>NaN</td>\n",
       "      <td>0.5</td>\n",
       "      <td>1.0</td>\n",
       "      <td>NaN</td>\n",
       "      <td>0.0</td>\n",
       "      <td>...</td>\n",
       "      <td>2.0</td>\n",
       "      <td>3.0</td>\n",
       "      <td>2.0</td>\n",
       "      <td>5.0</td>\n",
       "      <td>6.0</td>\n",
       "      <td>4.0</td>\n",
       "      <td>4.0</td>\n",
       "      <td>1.0</td>\n",
       "      <td>1</td>\n",
       "      <td>1</td>\n",
       "    </tr>\n",
       "    <tr>\n",
       "      <th>...</th>\n",
       "      <td>...</td>\n",
       "      <td>...</td>\n",
       "      <td>...</td>\n",
       "      <td>...</td>\n",
       "      <td>...</td>\n",
       "      <td>...</td>\n",
       "      <td>...</td>\n",
       "      <td>...</td>\n",
       "      <td>...</td>\n",
       "      <td>...</td>\n",
       "      <td>...</td>\n",
       "      <td>...</td>\n",
       "      <td>...</td>\n",
       "      <td>...</td>\n",
       "      <td>...</td>\n",
       "      <td>...</td>\n",
       "      <td>...</td>\n",
       "      <td>...</td>\n",
       "      <td>...</td>\n",
       "      <td>...</td>\n",
       "      <td>...</td>\n",
       "    </tr>\n",
       "    <tr>\n",
       "      <th>1092</th>\n",
       "      <td>NaN</td>\n",
       "      <td>NaN</td>\n",
       "      <td>NaN</td>\n",
       "      <td>NaN</td>\n",
       "      <td>3.5</td>\n",
       "      <td>NaN</td>\n",
       "      <td>NaN</td>\n",
       "      <td>NaN</td>\n",
       "      <td>NaN</td>\n",
       "      <td>NaN</td>\n",
       "      <td>...</td>\n",
       "      <td>3.0</td>\n",
       "      <td>4.0</td>\n",
       "      <td>3.0</td>\n",
       "      <td>5.0</td>\n",
       "      <td>5.0</td>\n",
       "      <td>4.0</td>\n",
       "      <td>4.0</td>\n",
       "      <td>1.0</td>\n",
       "      <td>0</td>\n",
       "      <td>0</td>\n",
       "    </tr>\n",
       "    <tr>\n",
       "      <th>1093</th>\n",
       "      <td>3.0</td>\n",
       "      <td>4.0</td>\n",
       "      <td>NaN</td>\n",
       "      <td>NaN</td>\n",
       "      <td>4.0</td>\n",
       "      <td>4.0</td>\n",
       "      <td>2.5</td>\n",
       "      <td>NaN</td>\n",
       "      <td>3.5</td>\n",
       "      <td>3.5</td>\n",
       "      <td>...</td>\n",
       "      <td>5.0</td>\n",
       "      <td>3.0</td>\n",
       "      <td>5.0</td>\n",
       "      <td>5.0</td>\n",
       "      <td>5.0</td>\n",
       "      <td>6.0</td>\n",
       "      <td>5.0</td>\n",
       "      <td>1.0</td>\n",
       "      <td>0</td>\n",
       "      <td>0</td>\n",
       "    </tr>\n",
       "    <tr>\n",
       "      <th>1094</th>\n",
       "      <td>NaN</td>\n",
       "      <td>NaN</td>\n",
       "      <td>NaN</td>\n",
       "      <td>NaN</td>\n",
       "      <td>NaN</td>\n",
       "      <td>NaN</td>\n",
       "      <td>NaN</td>\n",
       "      <td>3.5</td>\n",
       "      <td>NaN</td>\n",
       "      <td>NaN</td>\n",
       "      <td>...</td>\n",
       "      <td>6.0</td>\n",
       "      <td>3.0</td>\n",
       "      <td>1.0</td>\n",
       "      <td>6.0</td>\n",
       "      <td>6.0</td>\n",
       "      <td>4.0</td>\n",
       "      <td>2.0</td>\n",
       "      <td>1.0</td>\n",
       "      <td>0</td>\n",
       "      <td>0</td>\n",
       "    </tr>\n",
       "    <tr>\n",
       "      <th>1095</th>\n",
       "      <td>NaN</td>\n",
       "      <td>NaN</td>\n",
       "      <td>NaN</td>\n",
       "      <td>NaN</td>\n",
       "      <td>NaN</td>\n",
       "      <td>NaN</td>\n",
       "      <td>NaN</td>\n",
       "      <td>NaN</td>\n",
       "      <td>NaN</td>\n",
       "      <td>NaN</td>\n",
       "      <td>...</td>\n",
       "      <td>1.0</td>\n",
       "      <td>1.0</td>\n",
       "      <td>1.0</td>\n",
       "      <td>4.0</td>\n",
       "      <td>3.0</td>\n",
       "      <td>3.0</td>\n",
       "      <td>1.0</td>\n",
       "      <td>1.0</td>\n",
       "      <td>0</td>\n",
       "      <td>1</td>\n",
       "    </tr>\n",
       "    <tr>\n",
       "      <th>1096</th>\n",
       "      <td>NaN</td>\n",
       "      <td>NaN</td>\n",
       "      <td>4.0</td>\n",
       "      <td>NaN</td>\n",
       "      <td>2.5</td>\n",
       "      <td>NaN</td>\n",
       "      <td>NaN</td>\n",
       "      <td>3.0</td>\n",
       "      <td>NaN</td>\n",
       "      <td>3.5</td>\n",
       "      <td>...</td>\n",
       "      <td>3.0</td>\n",
       "      <td>4.0</td>\n",
       "      <td>1.0</td>\n",
       "      <td>4.0</td>\n",
       "      <td>4.0</td>\n",
       "      <td>4.0</td>\n",
       "      <td>1.0</td>\n",
       "      <td>1.0</td>\n",
       "      <td>0</td>\n",
       "      <td>1</td>\n",
       "    </tr>\n",
       "  </tbody>\n",
       "</table>\n",
       "<p>1097 rows × 477 columns</p>\n",
       "</div>"
      ],
      "text/plain": [
       "      The Life of David Gale (2003)  Wing Commander (1999)  \\\n",
       "0                               NaN                    NaN   \n",
       "1                               NaN                    NaN   \n",
       "2                               NaN                    NaN   \n",
       "3                               NaN                    NaN   \n",
       "4                               NaN                    NaN   \n",
       "...                             ...                    ...   \n",
       "1092                            NaN                    NaN   \n",
       "1093                            3.0                    4.0   \n",
       "1094                            NaN                    NaN   \n",
       "1095                            NaN                    NaN   \n",
       "1096                            NaN                    NaN   \n",
       "\n",
       "      Django Unchained (2012)  Alien (1979)  \\\n",
       "0                         4.0           NaN   \n",
       "1                         1.5           NaN   \n",
       "2                         NaN           NaN   \n",
       "3                         2.0           NaN   \n",
       "4                         3.5           NaN   \n",
       "...                       ...           ...   \n",
       "1092                      NaN           NaN   \n",
       "1093                      NaN           NaN   \n",
       "1094                      NaN           NaN   \n",
       "1095                      NaN           NaN   \n",
       "1096                      4.0           NaN   \n",
       "\n",
       "      Indiana Jones and the Last Crusade (1989)  Snatch (2000)  \\\n",
       "0                                           3.0            NaN   \n",
       "1                                           NaN            NaN   \n",
       "2                                           NaN            NaN   \n",
       "3                                           3.0            NaN   \n",
       "4                                           0.5            NaN   \n",
       "...                                         ...            ...   \n",
       "1092                                        3.5            NaN   \n",
       "1093                                        4.0            4.0   \n",
       "1094                                        NaN            NaN   \n",
       "1095                                        NaN            NaN   \n",
       "1096                                        2.5            NaN   \n",
       "\n",
       "      Rambo: First Blood Part II (1985)  Fargo (1996)  \\\n",
       "0                                   NaN           NaN   \n",
       "1                                   NaN           NaN   \n",
       "2                                   NaN           NaN   \n",
       "3                                   NaN           NaN   \n",
       "4                                   0.5           1.0   \n",
       "...                                 ...           ...   \n",
       "1092                                NaN           NaN   \n",
       "1093                                2.5           NaN   \n",
       "1094                                NaN           3.5   \n",
       "1095                                NaN           NaN   \n",
       "1096                                NaN           3.0   \n",
       "\n",
       "      Let the Right One In (2008)  Black Swan (2010)  ...  \\\n",
       "0                             NaN                NaN  ...   \n",
       "1                             NaN                NaN  ...   \n",
       "2                             NaN                NaN  ...   \n",
       "3                             NaN                4.0  ...   \n",
       "4                             NaN                0.0  ...   \n",
       "...                           ...                ...  ...   \n",
       "1092                          NaN                NaN  ...   \n",
       "1093                          3.5                3.5  ...   \n",
       "1094                          NaN                NaN  ...   \n",
       "1095                          NaN                NaN  ...   \n",
       "1096                          NaN                3.5  ...   \n",
       "\n",
       "      When watching a movie I cheer or shout or talk or curse at the screen  \\\n",
       "0                                                   1.0                       \n",
       "1                                                   3.0                       \n",
       "2                                                   5.0                       \n",
       "3                                                   3.0                       \n",
       "4                                                   2.0                       \n",
       "...                                                 ...                       \n",
       "1092                                                3.0                       \n",
       "1093                                                5.0                       \n",
       "1094                                                6.0                       \n",
       "1095                                                1.0                       \n",
       "1096                                                3.0                       \n",
       "\n",
       "      When watching a movie I feel like the things on the screen are happening to me  \\\n",
       "0                                                   6.0                                \n",
       "1                                                   1.0                                \n",
       "2                                                   4.0                                \n",
       "3                                                   1.0                                \n",
       "4                                                   3.0                                \n",
       "...                                                 ...                                \n",
       "1092                                                4.0                                \n",
       "1093                                                3.0                                \n",
       "1094                                                3.0                                \n",
       "1095                                                1.0                                \n",
       "1096                                                4.0                                \n",
       "\n",
       "      As a movie unfolds I start to have problems keeping track of events that happened earlier  \\\n",
       "0                                                   2.0                                           \n",
       "1                                                   1.0                                           \n",
       "2                                                   3.0                                           \n",
       "3                                                   1.0                                           \n",
       "4                                                   2.0                                           \n",
       "...                                                 ...                                           \n",
       "1092                                                3.0                                           \n",
       "1093                                                5.0                                           \n",
       "1094                                                1.0                                           \n",
       "1095                                                1.0                                           \n",
       "1096                                                1.0                                           \n",
       "\n",
       "      The emotions on the screen \"rub off\" on me - for instance if something sad is happening I get sad or if something frightening is happening I get scared  \\\n",
       "0                                                   5.0                                                                                                         \n",
       "1                                                   6.0                                                                                                         \n",
       "2                                                   5.0                                                                                                         \n",
       "3                                                   4.0                                                                                                         \n",
       "4                                                   5.0                                                                                                         \n",
       "...                                                 ...                                                                                                         \n",
       "1092                                                5.0                                                                                                         \n",
       "1093                                                5.0                                                                                                         \n",
       "1094                                                6.0                                                                                                         \n",
       "1095                                                4.0                                                                                                         \n",
       "1096                                                4.0                                                                                                         \n",
       "\n",
       "      When watching a movie I get completely immersed in the alternative reality of the film  \\\n",
       "0                                                   5.0                                        \n",
       "1                                                   5.0                                        \n",
       "2                                                   5.0                                        \n",
       "3                                                   5.0                                        \n",
       "4                                                   6.0                                        \n",
       "...                                                 ...                                        \n",
       "1092                                                5.0                                        \n",
       "1093                                                5.0                                        \n",
       "1094                                                6.0                                        \n",
       "1095                                                3.0                                        \n",
       "1096                                                4.0                                        \n",
       "\n",
       "      Movies change my position on social economic or political issues  \\\n",
       "0                                                   5.0                  \n",
       "1                                                   3.0                  \n",
       "2                                                   4.0                  \n",
       "3                                                   3.0                  \n",
       "4                                                   4.0                  \n",
       "...                                                 ...                  \n",
       "1092                                                4.0                  \n",
       "1093                                                6.0                  \n",
       "1094                                                4.0                  \n",
       "1095                                                3.0                  \n",
       "1096                                                4.0                  \n",
       "\n",
       "      When watching movies things get so intense that I have to stop watching  \\\n",
       "0                                                   1.0                         \n",
       "1                                                   2.0                         \n",
       "2                                                   4.0                         \n",
       "3                                                   1.0                         \n",
       "4                                                   4.0                         \n",
       "...                                                 ...                         \n",
       "1092                                                4.0                         \n",
       "1093                                                5.0                         \n",
       "1094                                                2.0                         \n",
       "1095                                                1.0                         \n",
       "1096                                                1.0                         \n",
       "\n",
       "      Gender identity (1 = female; 2 = male; 3 = self-described)  \\\n",
       "0                                                   1.0            \n",
       "1                                                   1.0            \n",
       "2                                                   1.0            \n",
       "3                                                   1.0            \n",
       "4                                                   1.0            \n",
       "...                                                 ...            \n",
       "1092                                                1.0            \n",
       "1093                                                1.0            \n",
       "1094                                                1.0            \n",
       "1095                                                1.0            \n",
       "1096                                                1.0            \n",
       "\n",
       "      Are you an only child? (1: Yes; 0: No; -1: Did not respond)  \\\n",
       "0                                                     0             \n",
       "1                                                     0             \n",
       "2                                                     1             \n",
       "3                                                     0             \n",
       "4                                                     1             \n",
       "...                                                 ...             \n",
       "1092                                                  0             \n",
       "1093                                                  0             \n",
       "1094                                                  0             \n",
       "1095                                                  0             \n",
       "1096                                                  0             \n",
       "\n",
       "      Movies are best enjoyed alone (1: Yes; 0: No; -1: Did not respond)  \n",
       "0                                                     1                   \n",
       "1                                                     0                   \n",
       "2                                                     0                   \n",
       "3                                                     1                   \n",
       "4                                                     1                   \n",
       "...                                                 ...                   \n",
       "1092                                                  0                   \n",
       "1093                                                  0                   \n",
       "1094                                                  0                   \n",
       "1095                                                  1                   \n",
       "1096                                                  1                   \n",
       "\n",
       "[1097 rows x 477 columns]"
      ]
     },
     "execution_count": 3,
     "metadata": {},
     "output_type": "execute_result"
    }
   ],
   "source": [
    "data1"
   ]
  },
  {
   "cell_type": "markdown",
   "metadata": {},
   "source": [
    "#### Question 1"
   ]
  },
  {
   "cell_type": "markdown",
   "metadata": {},
   "source": [
    "#### Are movies that are more popular (operationalized as having more ratings) rated higher than movies that are less popular?"
   ]
  },
  {
   "cell_type": "markdown",
   "metadata": {},
   "source": [
    "    - H0(Null): Popular Movies are not rated differently than unpopular movies.\n",
    "    - H1: Popular movies are rated differently than unpopular movies."
   ]
  },
  {
   "cell_type": "code",
   "execution_count": 4,
   "metadata": {
    "scrolled": true
   },
   "outputs": [
    {
     "data": {
      "text/plain": [
       "MannwhitneyuResult(statistic=45749.0, pvalue=3.418584551895982e-33)"
      ]
     },
     "execution_count": 4,
     "metadata": {},
     "output_type": "execute_result"
    }
   ],
   "source": [
    "popularities = data1.count() #counting the rows for ratings to determine popularity\n",
    "median = popularities.median() #taking median of popularities\n",
    "\n",
    "\n",
    "low_pop = popularities[popularities < median] #Placing lower popularity into an array\n",
    "high_pop = popularities[popularities >= median] #Placing high popularity into an array\n",
    "\n",
    "#Array for lower/higher ratings\n",
    "low_pop_ratings = data1[low_pop.index]\n",
    "high_pop_ratings = data1[high_pop.index]\n",
    "\n",
    "#Finding the medians for both categories\n",
    "med_low_pop = low_pop_ratings.median(skipna=True)\n",
    "med_high_pop = high_pop_ratings.median(skipna=True)\n",
    "\n",
    "#Mann-Whitney\n",
    "mannwhitneyu(med_high_pop, med_low_pop, alternative='greater') #One-Tailed"
   ]
  },
  {
   "cell_type": "markdown",
   "metadata": {},
   "source": [
    "#### Conclusion:"
   ]
  },
  {
   "cell_type": "markdown",
   "metadata": {},
   "source": [
    "- This problem was calculated using a one-tailed Mann Whitney U test, where the Mann Whitney tests a hypothesis in terms of the population median. The Mann-Whitney allows us to compare continuous variable in order to measure variability, which aligns for our purpose of measuring whether popular movies have the same ratings as unpopular movies. In this case, I took the data for popularities and did a median-split to achieve two even samples: low popularity and higher popularity. The data was cleaned element wise to only account for participant ratings. By doing element wise, we are retaining more data. This method prevents a loss of data, where row-wise cleaning would then cause a lower sample size. The median of each group was then calculated to provide a better representation of a ‘typical’ value. As a result, my p-value evaluates to 3.418584551895982e-33 and with an alpha level of 0.005, we reject the null and accept the alternative hypothesis. "
   ]
  },
  {
   "cell_type": "markdown",
   "metadata": {},
   "source": [
    "#### Question #2:"
   ]
  },
  {
   "cell_type": "markdown",
   "metadata": {},
   "source": [
    "#### Are movies that are newer rated differently than movies that are older?"
   ]
  },
  {
   "cell_type": "markdown",
   "metadata": {},
   "source": [
    "    - H0(Null): Movies that are newer rated are not rated differently than older movies.\n",
    "    - H1: Movies that are newer rated are rated differently than older movies."
   ]
  },
  {
   "cell_type": "code",
   "execution_count": 5,
   "metadata": {},
   "outputs": [
    {
     "data": {
      "text/plain": [
       "MannwhitneyuResult(statistic=18009.5, pvalue=0.06974757637794209)"
      ]
     },
     "execution_count": 5,
     "metadata": {},
     "output_type": "execute_result"
    }
   ],
   "source": [
    "movieratingandtitles = data1.iloc[:,:400] #GRAB THE 400 COLUMNS\n",
    "movieTitles = pd.Series(list(movieratingandtitles)) #Grab the ratings; prints all info\n",
    "\n",
    "#Years and titls split\n",
    "movieYears = movieratingandtitles.columns.str.extract('\\((\\d+)\\)').astype(int)\n",
    "#Ratings\n",
    "newmovieandyearcolumn= np.column_stack([movieTitles, movieYears])#np.column_stack([movieratingandtitles, movieYears])\n",
    "\n",
    "newmovieandyearcolumn = newmovieandyearcolumn[(newmovieandyearcolumn[:, 1].argsort())]\n",
    "\n",
    "#OLDER/NEWER Movies\n",
    "oldermovie = movieratingandtitles.loc[:, pd.DataFrame(newmovieandyearcolumn[:200])[0].tolist()].median(axis=0) #medianofmovies[:,200]  #split into lower ratings\n",
    "newermovie = movieratingandtitles.loc[:, pd.DataFrame(newmovieandyearcolumn[200:])[0].tolist()].median(axis=0)#medianofmovies[201:400] #split into higher ratings\n",
    "#Cleaning data with data split into two categories\n",
    "oldermovie_e = oldermovie[np.isfinite(oldermovie)]\n",
    "newermovie_e = newermovie[np.isfinite(newermovie)]\n",
    "\n",
    "mannwhitneyu(oldermovie_e, newermovie_e, alternative='two-sided') #Two-Tailed\n"
   ]
  },
  {
   "cell_type": "markdown",
   "metadata": {},
   "source": [
    "#### Conclusion:"
   ]
  },
  {
   "cell_type": "markdown",
   "metadata": {},
   "source": [
    "- This problem was calculated using a two-tailed Mann Whitney, where the test was ran to determine whether newer movies are rated differently than movies that are older. The code was implemented by cleaning the data element wise. Again, this allowed to count the data accordingly, without affecting the size of the data. In this dataset, one of the movies did not have a year. Rather than eliminate the movie “Rambo: First Blood Part II (1985)” from the dataset, I inputted the year to reduce the possibility of an increased standard error. Information, or data, should only be dropped when we are certain that it is unimportant. As a result, my p-value results to 0.0697475763779420. With an alpha level of 0.005, we fail to reject the null due to chance and accept the alternative hypothesis."
   ]
  },
  {
   "cell_type": "markdown",
   "metadata": {},
   "source": [
    "#### Question #3:"
   ]
  },
  {
   "cell_type": "markdown",
   "metadata": {},
   "source": [
    "#### Is enjoyment of ‘Shrek (2001)’ gendered, i.e. do male and female viewers rate it differently?"
   ]
  },
  {
   "cell_type": "markdown",
   "metadata": {},
   "source": [
    "    - H0(Null): Male and Female viewers do not enjoy ‘Shrek (2001)’ differently.\n",
    "    - H1: Male and Female viewers enjoy ‘Shrek(2001)’ differently."
   ]
  },
  {
   "cell_type": "code",
   "execution_count": 6,
   "metadata": {},
   "outputs": [
    {
     "name": "stdout",
     "output_type": "stream",
     "text": [
      "MannwhitneyuResult(statistic=96830.5, pvalue=0.050536625925559006)\n"
     ]
    }
   ],
   "source": [
    "title= 'Shrek' ##Prints column for Shrek\n",
    "data1.columns.get_loc('Shrek (2001)')\n",
    "\n",
    "#Creating column of movie and question of interest\n",
    "dataone = data1.iloc[:,[87,474]]\n",
    "\n",
    "##We have gender, now we need rows where they are female and where they are male 475\n",
    "dataforfemale =  dataone.loc[dataone['Gender identity (1 = female; 2 = male; 3 = self-described)'] == 1 ]\n",
    "dataformale =  dataone.loc[dataone['Gender identity (1 = female; 2 = male; 3 = self-described)'] == 2 ]\n",
    "\n",
    "#Placing female and male into array in relation to the movie Shrek(2001) to clean data\n",
    "dataformalenp = np.array(dataformale['Shrek (2001)'])\n",
    "dataforfemalenp = np.array(dataforfemale['Shrek (2001)'])\n",
    "\n",
    "#Array to clean data of interest\n",
    "datafem = dataforfemalenp[np.isfinite(dataforfemalenp)]\n",
    "datamal = dataformalenp[np.isfinite(dataformalenp)]\n",
    "\n",
    "##Mann-Whitney:\n",
    "testman = mannwhitneyu(datafem, datamal, use_continuity=True, alternative='two-sided')\n",
    "\n",
    "print(testman)\n"
   ]
  },
  {
   "cell_type": "markdown",
   "metadata": {},
   "source": [
    "#### Conclusion:"
   ]
  },
  {
   "cell_type": "markdown",
   "metadata": {},
   "source": [
    " - This problem was calculated through a two-tailed Mann-Whitney. Each sample of interest was stored into an array in terms of the ratings for ‘Shrek (2001)’. The data was then cleaned element wise to keep our sample size larger than it would have been if we cleaned it row wise. We conclude that males and females do not view the movies differently. As a result, my pvalue results to 0.0505366 and with an alpha level of 0.005, we fail to reject the null due to chance. "
   ]
  },
  {
   "cell_type": "markdown",
   "metadata": {},
   "source": [
    "#### Question #4:"
   ]
  },
  {
   "cell_type": "markdown",
   "metadata": {},
   "source": [
    "#### What proportion of movies are rated differently by male and female viewers?"
   ]
  },
  {
   "cell_type": "code",
   "execution_count": 7,
   "metadata": {},
   "outputs": [
    {
     "name": "stdout",
     "output_type": "stream",
     "text": [
      "The proportion of movies rated differently by male and female viewers is  50 out of 400, or 0.125 .\n"
     ]
    }
   ],
   "source": [
    "##Getting title for all movies\n",
    "all_titles = data1.columns\n",
    "count = 0\n",
    "\n",
    "#For-loop to conduct Mann-Whitney on sample size of 400\n",
    "for i in range(400):\n",
    "    \n",
    "    ##We have gender, now we need rows where they are female and where they are male 475\n",
    "    dataone = data1.loc[:,[all_titles[i], 'Gender identity (1 = female; 2 = male; 3 = self-described)']]\n",
    "    \n",
    "    #Clean data data of gender identity element-wise\n",
    "    dataone = dataone[np.isfinite(dataone)]\n",
    "    \n",
    "    #Categorize into two arrays: female, males\n",
    "    datafemale =  dataone.loc[dataone['Gender identity (1 = female; 2 = male; 3 = self-described)'] == 1 ].iloc[:,0]\n",
    "    datamale =  dataone.loc[dataone['Gender identity (1 = female; 2 = male; 3 = self-described)'] == 2 ].iloc[:,0]\n",
    "    \n",
    "    #Clean data of female and male\n",
    "    datafem = datafemale[np.isfinite(datafemale)]\n",
    "    datamal = datamale[np.isfinite(datamale)]\n",
    "    \n",
    "    # For all females,males, run a mannwhitneyu, where for everyp-value above o.005, we add one to our count\n",
    "    test22, p = mannwhitneyu(datafem, datamal)\n",
    "    \n",
    "    if p < 0.005:\n",
    "        count += 1\n",
    "#Calculate the proportion based off our out count, out of our sample size of 400\n",
    "proportion = count/400\n",
    "\n",
    "print(\"The proportion of movies rated differently by male and female viewers is \", count, \"out of 400, or\", proportion, '.')\n"
   ]
  },
  {
   "cell_type": "markdown",
   "metadata": {},
   "source": [
    "#### Conclusion:"
   ]
  },
  {
   "cell_type": "markdown",
   "metadata": {},
   "source": [
    "- In this question, I ran a two-tailed Mann Whitney test to calculate the proportion of each sub-group. For this case, I cleaned the data element wise to eliminate the possibility of exponentially reducing my sample size. I first grouped my data into two categories, male and female, in order to calculate a u-test in terms of females and males. Through a for-loop, for every value above 0.005, we add one to our count. Then, we take this count and divide it by our total sample size to attain the proportion of males and females that view movies differently. As a result, the proportion of movies rated differently by male and female viewers is 50/400, or 0.125. This tells us that 50/400 movies are viewed differently by male and female viewers. "
   ]
  },
  {
   "cell_type": "markdown",
   "metadata": {},
   "source": [
    "#### Question #5:"
   ]
  },
  {
   "cell_type": "markdown",
   "metadata": {},
   "source": [
    "#### Do people who are only children enjoy 'The lion King (1994)' more than people with siblings?"
   ]
  },
  {
   "cell_type": "markdown",
   "metadata": {},
   "source": [
    "    - H0(null): People who are only children do not enjoy ‘The Lion King (1994)’ more than people with siblings.\n",
    "    - H1: People who are only children enjoy ‘The Lion King(1994)’ more than people with siblings."
   ]
  },
  {
   "cell_type": "code",
   "execution_count": 8,
   "metadata": {},
   "outputs": [
    {
     "name": "stdout",
     "output_type": "stream",
     "text": [
      "MannwhitneyuResult(statistic=64247.0, pvalue=0.978419092554931)\n"
     ]
    }
   ],
   "source": [
    "title = 'The Lion King (1994)' ##Prints column for Shrek\n",
    "data1.columns.get_loc('The Lion King (1994)') #COLUMN 221, for indexing do ( 221 - 1 )\n",
    "\n",
    "dataSib = data1.iloc[:,[220,475]] #476 - column for \"only child\" \n",
    "                                 # \" Are you an only child? (1: Yes; 0: No; -1: Did not respond)\n",
    "\n",
    "##We have gender, now we need rows where they are ONLY CHILD(1) or NOT(0)\n",
    "notOnly =  dataSib.loc[dataSib['Are you an only child? (1: Yes; 0: No; -1: Did not respond)'] == 0 ]\n",
    "onlyChild =  dataSib.loc[dataSib['Are you an only child? (1: Yes; 0: No; -1: Did not respond)'] == 1 ]\n",
    "\n",
    "#Array for movie in relation to sibling/nosiblings\n",
    "notOnlynp = np.array(notOnly['The Lion King (1994)'])\n",
    "onlyChildnp = np.array(onlyChild['The Lion King (1994)'])\n",
    "\n",
    "#Cleaning data for only sibling or not only sibling\n",
    "notOnlyprne = notOnlynp[np.isfinite(notOnlynp)]\n",
    "onlyChildprne = onlyChildnp[np.isfinite(onlyChildnp)]\n",
    "\n",
    "##Mann-Whitney\n",
    "testmanSib = mannwhitneyu(notOnlyprne, onlyChildprne, use_continuity=True, alternative='less')\n",
    "\n",
    "print(testmanSib)\n"
   ]
  },
  {
   "cell_type": "markdown",
   "metadata": {},
   "source": [
    "#### Conclusion:"
   ]
  },
  {
   "cell_type": "markdown",
   "metadata": {},
   "source": [
    "- In this question I ran a one-tailed Mann Whitney test to determine whether there exists a significance between the enjoyment of ‘The Lion King’ for people with siblings and those without siblings. In the program, I separated the two groups of interest into arrays and assured the responses to “Are you an only child?” are in terms of the movie “The Lion King”. The dataset of interest was then cleaned element wise to reduce the possibility of a smaller sample size. By running the test as one-tailed, this allows for the Mann Whitney test to only account for the group that enjoyed the movie “more”. With a p-value resulting in .9784, we fail to reject the null with an alpha level interval of 0.005 and accept the alternative hypothesis. "
   ]
  },
  {
   "cell_type": "markdown",
   "metadata": {},
   "source": [
    "#### Question #6:"
   ]
  },
  {
   "cell_type": "markdown",
   "metadata": {},
   "source": [
    "#### What proportion of movies exhibit an \"only child effect\", i.e. are rated different by viewers with siblings vs. those without?"
   ]
  },
  {
   "cell_type": "code",
   "execution_count": 9,
   "metadata": {},
   "outputs": [
    {
     "name": "stdout",
     "output_type": "stream",
     "text": [
      "The proportion of movies that exhibit an 'only child effect', i.e. are rated different by viewers with siblings vs. those without is  0.0175\n"
     ]
    }
   ],
   "source": [
    "##Getting title for all movies \n",
    "all_titles = data1.columns\n",
    "count = 0\n",
    "\n",
    "for i in range(400):\n",
    "    \n",
    "    ##We have gender, now we need rows where they are female and where they are male 475\n",
    "    dataone = data1.loc[:,[all_titles[i], 'Are you an only child? (1: Yes; 0: No; -1: Did not respond)']]\n",
    "    dataone = dataone[np.isfinite(dataone)]\n",
    "    \n",
    "    notonlyChild =  dataone.loc[dataone['Are you an only child? (1: Yes; 0: No; -1: Did not respond)'] == 0 ].iloc[:,0]\n",
    "    onlyChild =  dataone.loc[dataone['Are you an only child? (1: Yes; 0: No; -1: Did not respond)'] == 1 ].iloc[:,0]\n",
    "    #print(datafemale)\n",
    "    notonlyChil = notonlyChild[np.isfinite(notonlyChild)]\n",
    "    onlyChil = onlyChild[np.isfinite(onlyChild)]\n",
    "   # print(datafem)\n",
    "    test22, p = mannwhitneyu(notonlyChil, onlyChil)\n",
    "    \n",
    "    if p < 0.005:\n",
    "        count += 1\n",
    "proportion = count/400\n",
    "\n",
    "print(\"The proportion of movies that exhibit an 'only child effect', i.e. are rated different by viewers with siblings vs. those without is \" , proportion)"
   ]
  },
  {
   "cell_type": "markdown",
   "metadata": {},
   "source": [
    "#### Conclusion:"
   ]
  },
  {
   "cell_type": "markdown",
   "metadata": {},
   "source": [
    "- For this question, I implemented a two-tailed Mann Whitney test. This problem was tackled by first only selecting the data of interest, followed by categorizing my data into a group for participants that are an only child and those with siblings. I then cleaned the data element wise in order to account for the data count as individual participants in the survey rather than using row-wise cleaning, where I can potentially reduce my data. To calculate the proportion, a Mann Whitney U-test with an alpha level of 0.005 was used, where through a for-loop, a p-value was attained for every element in the rows and divided by the total sample size to find the proportion of movies that have exhibited an only child effect. Through this, we can conclude that 7/400 of movies exhibit an “only child effect”."
   ]
  },
  {
   "cell_type": "markdown",
   "metadata": {},
   "source": [
    "#### Question #7:"
   ]
  },
  {
   "cell_type": "markdown",
   "metadata": {},
   "source": [
    "#### Do people who like to watch movies socially enjoy ‘The Wolf of Wall Street (2013)’ more than those who prefer to watch them alone? "
   ]
  },
  {
   "cell_type": "markdown",
   "metadata": {},
   "source": [
    "    - H0(Null): People who watch movies socially do not enjoy ‘The Wolf of Wall Street (2013)’ more than those who prefer to watch them alone.\n",
    "    - H1: People who watch movies socially enjoy ‘The Wolf of Wall Street(2013)’ more than those who prefer to watch them alone. "
   ]
  },
  {
   "cell_type": "code",
   "execution_count": 10,
   "metadata": {},
   "outputs": [
    {
     "name": "stdout",
     "output_type": "stream",
     "text": [
      "MannwhitneyuResult(statistic=49303.5, pvalue=0.9436657996253056)\n"
     ]
    }
   ],
   "source": [
    "##‘The Wolf of Wall Street (2013)’ - COLUMN 358\n",
    "## \"Movies are best enjoyed alone (1: Yes; 0: No; -1: Did not respond)\" - COLUMN 477\n",
    "title = 'The Wolf of Wall Street (2013)' ##Prints column for 'The Wold of Wall Street'\n",
    "data1.columns.get_loc('The Wolf of Wall Street (2013)') #COLUMN 358, for indexing do ( 358 - 1 = 357 )\n",
    "dataAlone = data1.iloc[:,[357,476]]    # [movie, question of interest]  \n",
    "                \n",
    "#Separating data into 2 groups of interest\n",
    "notbestalone =  dataAlone.loc[dataAlone['Movies are best enjoyed alone (1: Yes; 0: No; -1: Did not respond)'] == 0 ]\n",
    "bestalone =  dataAlone.loc[dataAlone['Movies are best enjoyed alone (1: Yes; 0: No; -1: Did not respond)'] == 1 ]\n",
    "\n",
    "notbestalonenp = np.array(notbestalone['The Wolf of Wall Street (2013)'])\n",
    "bestalonenp = np.array(bestalone['The Wolf of Wall Street (2013)'])\n",
    "\n",
    "#Cleaning Data \n",
    "notbestaloneprne = notbestalonenp[np.isfinite(notbestalonenp)]\n",
    "bestalonenpprne = bestalonenp[np.isfinite(bestalonenp)]\n",
    "#print(onlyChildprne)\n",
    "\n",
    "##Mann-Whitney\n",
    "testmanAlone = mannwhitneyu(notbestaloneprne, bestalonenpprne, use_continuity=True, alternative='greater')\n",
    "print(testmanAlone)\n"
   ]
  },
  {
   "cell_type": "markdown",
   "metadata": {},
   "source": [
    "#### Conclusion:"
   ]
  },
  {
   "cell_type": "markdown",
   "metadata": {},
   "source": [
    "- The problem was calculated using a one-sided Mann-Whitney test with an alpha level of 0.005. By running a one-sided test, it allows us to test for the effect of a particular group enjoying a movie more than the other. Before running the data, I separated my sample into two groups: ‘bestnotalone’ and ‘bestalone’. In this, I cleaned the data element-wise to eliminate the chance of reducing my sample size. I resulted with a p-value of .94366, where we fail to reject the null with an alpha level of 0.005. "
   ]
  },
  {
   "cell_type": "markdown",
   "metadata": {},
   "source": [
    "#### Question #8:"
   ]
  },
  {
   "cell_type": "markdown",
   "metadata": {},
   "source": [
    "#### What proportion of movies exhibit such a “social watching” effect?"
   ]
  },
  {
   "cell_type": "code",
   "execution_count": 11,
   "metadata": {},
   "outputs": [
    {
     "name": "stdout",
     "output_type": "stream",
     "text": [
      "The proportion of movies that exhibit such a “social watching” effect is  0.025\n"
     ]
    }
   ],
   "source": [
    "##Getting title for all movies\n",
    "all_titles = data1.columns\n",
    "count = 0\n",
    "\n",
    "for i in range(400):\n",
    "    \n",
    "    ##We have data for \"alone\", now we need rows where they are bestalone and where they are notbestalone 475\n",
    "    dataone = data1.loc[:,[all_titles[i], 'Movies are best enjoyed alone (1: Yes; 0: No; -1: Did not respond)']]\n",
    "    dataone = dataone[np.isfinite(dataone)]\n",
    "    \n",
    "    notbestalone =  dataone.loc[dataAlone['Movies are best enjoyed alone (1: Yes; 0: No; -1: Did not respond)'] == 0 ].iloc[:,0]\n",
    "    bestalone =  dataone.loc[dataAlone['Movies are best enjoyed alone (1: Yes; 0: No; -1: Did not respond)'] == 1 ].iloc[:,0]\n",
    "\n",
    "    #Clean Data for two categories\n",
    "    notbestalon = notbestalone[np.isfinite(notbestalone)]\n",
    "    bestalon = bestalone[np.isfinite(bestalone)]\n",
    "    # Mann-Whitney\n",
    "    test88, p = mannwhitneyu(notbestalon, bestalon, alternative='two-sided') \n",
    "\n",
    "    #For-loop to count the number of movies that exhibit effect\n",
    "    if p < 0.005:\n",
    "        count += 1\n",
    "        \n",
    "proportion = count/400\n",
    "\n",
    "print(\"The proportion of movies that exhibit such a “social watching” effect is \" , proportion)"
   ]
  },
  {
   "cell_type": "markdown",
   "metadata": {},
   "source": [
    "#### Conclusion:"
   ]
  },
  {
   "cell_type": "markdown",
   "metadata": {},
   "source": [
    " - The problem was calculated by using a two-sided Mann Whitney. In this question, I separated my groups into ‘bestalone’ vs ‘notbestalone’ in order to account for both groups accordingly in terms of ratings. The nature of this question suggests that we should run this test two sided, where we are focusing on finding a proportion and not whether one group is experiencing more of a social effect than the other. I then cleaned the data element wise to maintain my sample size robust. I concluded the proportion of movies that exhibit such a “social watching” effect to be 0.0175."
   ]
  },
  {
   "cell_type": "markdown",
   "metadata": {},
   "source": [
    "#### Question #9:"
   ]
  },
  {
   "cell_type": "markdown",
   "metadata": {},
   "source": [
    "#### Is the rating distribution of 'Home Alone' different than that of 'Finding Nemo'?"
   ]
  },
  {
   "cell_type": "markdown",
   "metadata": {},
   "source": [
    "    - H0(Null): The rating distribution of ‘Home Alone’ is not different than that of ‘Finding Nemo’.\n",
    "    - H1: The rating distribution of ‘Home Alone’ is different than that of ‘Finding Nemo’."
   ]
  },
  {
   "cell_type": "code",
   "execution_count": 12,
   "metadata": {},
   "outputs": [
    {
     "data": {
      "text/plain": [
       "KstestResult(statistic=0.16831683168316833, pvalue=2.0811961462256978e-10)"
      ]
     },
     "execution_count": 12,
     "metadata": {},
     "output_type": "execute_result"
    }
   ],
   "source": [
    "##Unless we have it as a numpy array, we cannot run analysis\n",
    "datanp = np.genfromtxt('/Users/jenniferrodrigueztrujillo/Downloads/movieReplicationSet.csv', delimiter = ',', skip_header = 1)\n",
    "HA1 = datanp[:,285] #Home Alone\n",
    "FN1 = datanp[:,138] #Finding Nemo\n",
    "\n",
    "datanp = np.transpose(np.array([HA1,FN1])) # array of arrays\n",
    "\n",
    "temp = np.array([np.isnan(HA1),np.isnan(FN1)],dtype=bool)\n",
    "missingData = np.where(temp>0) # find participants with missing data\n",
    "HA1 = np.delete(HA1,missingData) # delete missing data from array\n",
    "FN1 = np.delete(FN1,missingData) # delete missing data from array\n",
    "\n",
    "combinedData = np.transpose(np.array([HA1,FN1])) # array of arrays\n",
    "##KS Test on M1 and M2\n",
    "stats.ks_2samp(HA1, FN1, alternative='two-sided', mode='auto')"
   ]
  },
  {
   "cell_type": "markdown",
   "metadata": {},
   "source": [
    "#### Conclusion:"
   ]
  },
  {
   "cell_type": "markdown",
   "metadata": {},
   "source": [
    "- For this case, I used a two-sided KS test for the purpose of reporting maximum differences between two groups. The data was cleaned row wise since we are only interested in ratings for two movies. Given that we are focusing on the difference in distributions between ‘Home Alone’ and ‘Finding Nemo’, we can test for these differences through the KS test. Furthermore, I implemented my code by storing the two variables of interest into arrays. As a result of a two-tailed KS-test, we reject the null with a p-value of 2.08…e-10 and an alpha level of 0.005."
   ]
  },
  {
   "cell_type": "markdown",
   "metadata": {},
   "source": [
    "#### Question #10:"
   ]
  },
  {
   "cell_type": "markdown",
   "metadata": {},
   "source": [
    "#### There are ratings on movies from several franchises ([‘Star Wars’, ‘Harry Potter’, ‘The Matrix’, ‘Indiana Jones’, ‘Jurassic Park’, ‘Pirates of the Caribbean’, ‘Toy Story’, ‘Batman’]) in this dataset. How many of these are of inconsistent quality, as experienced by viewers? "
   ]
  },
  {
   "cell_type": "markdown",
   "metadata": {},
   "source": [
    "    - H0(Null): Movie [insert movie name(s)] are of consistent quality.\n",
    "    - H1: Movie [insert movie name(s)] are of inconsistent quality."
   ]
  },
  {
   "cell_type": "code",
   "execution_count": 13,
   "metadata": {
    "scrolled": true
   },
   "outputs": [
    {
     "name": "stdout",
     "output_type": "stream",
     "text": [
      "['Star Wars: Episode IV - A New Hope (1977)', 'Star Wars: Episode II - Attack of the Clones (2002)', 'Star Wars: Episode V - The Empire Strikes Back (1980)', 'Star Wars: Episode 1 - The Phantom Menace (1999)', 'Star Wars: Episode VII - The Force Awakens (2015)', 'Star Wars: Episode VI - The Return of the Jedi (1983)']\n",
      "6.940162236984522e-40\n",
      "[\"Harry Potter and the Sorcerer's Stone (2001)\", 'Harry Potter and the Deathly Hallows: Part 2 (2011)', 'Harry Potter and the Goblet of Fire (2005)', 'Harry Potter and the Chamber of Secrets (2002)']\n",
      "0.11790622831256074\n",
      "['The Matrix Revolutions (2003)', 'The Matrix Reloaded (2003)', 'The Matrix (1999)']\n",
      "1.7537323830838066e-09\n",
      "['Indiana Jones and the Last Crusade (1989)', 'Indiana Jones and the Temple of Doom (1984)', 'Indiana Jones and the Raiders of the Lost Ark (1981)', 'Indiana Jones and the Kingdom of the Crystal Skull (2008)']\n",
      "1.020118354785894e-11\n",
      "['The Lost World: Jurassic Park (1997)', 'Jurassic Park III (2001)', 'Jurassic Park (1993)']\n",
      "1.8492328391686058e-11\n",
      "[\"Pirates of the Caribbean: Dead Man's Chest (2006)\", \"Pirates of the Caribbean: At World's End (2007)\", 'Pirates of the Caribbean: The Curse of the Black Pearl (2003)']\n",
      "0.035792727694248905\n",
      "['Toy Story 2 (1999)', 'Toy Story 3 (2010)', 'Toy Story (1995)']\n",
      "7.902234665149812e-06\n",
      "['Batman & Robin (1997)', 'Batman (1989)', 'Batman: The Dark Knight (2008)']\n",
      "4.1380499020034183e-19\n"
     ]
    }
   ],
   "source": [
    "#Key-words(movies) of interest\n",
    "trilogylist = [\"Star Wars\", \"Harry Potter\", \"The Matrix\", \"Indiana Jones\", \"Jurassic Park\", \"Pirates of the Caribbean\", \"Toy Story\", \"Batman\"]\n",
    "\n",
    "#Empty array for counter\n",
    "counting_inconsistent = []\n",
    "\n",
    "#For-loop to find\n",
    "for f in trilogylist: \n",
    "    trilmatching = [s for s in data1.columns if f in s]\n",
    "    print(trilmatching)\n",
    "    #Cleaning data\n",
    "    select_df = data1.loc[:,trilmatching].dropna()\n",
    "    #Running Kruskal-Wallis\n",
    "    arg = [select_df[l] for l in select_df]\n",
    "    h,p = stats.kruskal(*arg)\n",
    "    print(p)\n"
   ]
  },
  {
   "cell_type": "markdown",
   "metadata": {},
   "source": [
    "#### Conclusion:"
   ]
  },
  {
   "cell_type": "markdown",
   "metadata": {},
   "source": [
    "- Based on the number of movies of interest for this sample, a Kruskal Wallis test was implemented. The program was implemented by storing the movies into an array and then dropping the ‘na’ row wise to only account for the movies of interest. Furthermore, to give us an accurate comparison amongst the groups, row-wise elimination was the best route. My program was implemented by running a Kruskal Wallis test for the set of movies in the trilogy set. Out of all these movies, only one is of consistent quality, or in other words, only seven are of inconsistent quality. Furthermore, we fail to reject the null for the trilogy set of Harry Potter and Pirates of the Caribbean and reject the null for the remaining seven movies. In the results, we see that the movies of consistent quality are of the trilogy set for Harry Potter and Pirates of the Caribbean, where the trilogy for Harry Potter had a p-value of 0.11790622831256074 and Pirates of the Caribbean has a p-value of 0.035792727694248905."
   ]
  },
  {
   "cell_type": "markdown",
   "metadata": {},
   "source": [
    "### Additional Social Analysis of Movies and Gender:"
   ]
  },
  {
   "cell_type": "markdown",
   "metadata": {},
   "source": [
    "#### Is enjoyment of 'What Women Want'(2000)' gendered, i.e. do male and female viewers rate it differently?"
   ]
  },
  {
   "cell_type": "markdown",
   "metadata": {},
   "source": [
    "    - H0(Null): Male and Female viewers do not enjoy ‘What Women Want (2000)’ differently.\n",
    "    - H1: Male and Female viewers enjoy ‘What Women Want (2000)’ differently."
   ]
  },
  {
   "cell_type": "code",
   "execution_count": 14,
   "metadata": {},
   "outputs": [
    {
     "name": "stdout",
     "output_type": "stream",
     "text": [
      "MannwhitneyuResult(statistic=2042.5, pvalue=0.11478422747007158)\n"
     ]
    }
   ],
   "source": [
    "title= 'What Women Want' ##Prints column for 'What Women Want'\n",
    "data1.columns.get_loc('What Women Want (2000)')\n",
    "\n",
    "#Gtabbing data for gender and movie\n",
    "dataone = data1.iloc[:,[284,474]]\n",
    "\n",
    "##We have gender, now we need rows where they are female and where they are male 475\n",
    "datafemaleWWW =  dataone.loc[dataone['Gender identity (1 = female; 2 = male; 3 = self-described)'] == 1 ]\n",
    "datamaleWWW =  dataone.loc[dataone['Gender identity (1 = female; 2 = male; 3 = self-described)'] == 2 ]\n",
    "\n",
    "#Placing data of interest into array \n",
    "datamalenpWWW = np.array(datamaleWWW['What Women Want (2000)'])\n",
    "datafemalenpWWW = np.array(datafemaleWWW['What Women Want (2000)'])\n",
    "\n",
    "#Cleaning data of interest\n",
    "datafemWWW = datafemalenpWWW[np.isfinite(datafemalenpWWW)]\n",
    "datamalWWW = datamalenpWWW[np.isfinite(datamalenpWWW)]\n",
    "\n",
    "#Running MannWhitney\n",
    "testmanWWW = mannwhitneyu(datafemWWW, datamalWWW, use_continuity=True, alternative='two-sided')\n",
    "\n",
    "print(testmanWWW)\n"
   ]
  },
  {
   "cell_type": "markdown",
   "metadata": {},
   "source": [
    "#### Conclusion:"
   ]
  },
  {
   "cell_type": "markdown",
   "metadata": {},
   "source": [
    "- This problem was calculated through a two-tailed Mann-Whitney. Each sample of interest was stored into an array in terms of the ratings for ‘What Women Want (2000)’. The data was then cleaned element wise to keep our sample size larger than it would have been if we cleaned it row wise. We conclude that male and female viewers do not view the movie differently. As a result, my p-value results to 0.11478 and with an alpha level of 0.005, we fail to reject the null due to chance. Although this question is like question three, what makes this case different is the aspect of not only seeing if there is statistical significance in the way gender’s view movies differently, but also seeing whether there is a statistical significance in how gender’s view movies that include gender terminology in their titles. Before running the test, I assumed we would reject the null. My assumptions come from a Sociological perspective and being able to tie my background into this is what made it an exciting and fun experience. "
   ]
  }
 ],
 "metadata": {
  "kernelspec": {
   "display_name": "Python 3",
   "language": "python",
   "name": "python3"
  },
  "language_info": {
   "codemirror_mode": {
    "name": "ipython",
    "version": 3
   },
   "file_extension": ".py",
   "mimetype": "text/x-python",
   "name": "python",
   "nbconvert_exporter": "python",
   "pygments_lexer": "ipython3",
   "version": "3.8.5"
  }
 },
 "nbformat": 4,
 "nbformat_minor": 4
}
